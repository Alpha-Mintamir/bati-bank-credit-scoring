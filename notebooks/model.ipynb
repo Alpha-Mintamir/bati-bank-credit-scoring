{
 "cells": [
  {
   "cell_type": "code",
   "execution_count": 23,
   "metadata": {},
   "outputs": [],
   "source": [
    "import pandas as pd"
   ]
  },
  {
   "cell_type": "code",
   "execution_count": 24,
   "metadata": {},
   "outputs": [],
   "source": [
    "df = pd.read_csv(\"../data/woe_binning.csv\")"
   ]
  },
  {
   "cell_type": "code",
   "execution_count": 25,
   "metadata": {},
   "outputs": [
    {
     "data": {
      "text/plain": [
       "Index(['index', 'TransactionId', 'CustomerId', 'Amount',\n",
       "       'TransactionStartTime', 'PricingStrategy', 'FraudResult',\n",
       "       'TotalTransactionAmount', 'AverageTransactionAmount',\n",
       "       'TotalTransactions', 'StdTransactionAmount', 'TransactionHour',\n",
       "       'TransactionDay', 'TransactionMonth', 'TransactionYear',\n",
       "       'ProductCategory_airtime', 'ProductCategory_data_bundles',\n",
       "       'ProductCategory_financial_services', 'ProductCategory_movies',\n",
       "       'ProductCategory_other', 'ProductCategory_ticket',\n",
       "       'ProductCategory_transport', 'ProductCategory_tv',\n",
       "       'ProductCategory_utility_bill', 'ChannelId_ChannelId_1',\n",
       "       'ChannelId_ChannelId_2', 'ChannelId_ChannelId_3',\n",
       "       'ChannelId_ChannelId_5', 'Recency', 'Frequency', 'Monetary',\n",
       "       'RFMS_Label', 'User_Label', 'Good_Bad', 'Recency_bin', 'Frequency_bin',\n",
       "       'Monetary_bin'],\n",
       "      dtype='object')"
      ]
     },
     "execution_count": 25,
     "metadata": {},
     "output_type": "execute_result"
    }
   ],
   "source": [
    "df.columns"
   ]
  },
  {
   "cell_type": "code",
   "execution_count": 26,
   "metadata": {},
   "outputs": [],
   "source": [
    "# Select only numeric columns from the DataFrame\n",
    "numeric_df = df.select_dtypes(include=[float, int])\n",
    "\n",
    "# Calculate the correlation matrix for the numeric columns\n",
    "correlation_matrix = numeric_df.corr()\n",
    "\n",
    "# Get the absolute correlation values for the target column\n",
    "corr_with_target = correlation_matrix['Good_Bad'].abs()\n",
    "\n",
    "# Set a correlation threshold (e.g., 0.1) to select relevant features\n",
    "threshold = 0.1\n",
    "\n",
    "# Select features that have correlation above the threshold (excluding the target column itself)\n",
    "selected_features = corr_with_target[corr_with_target > threshold].index.tolist()\n",
    "\n",
    "# Ensure the 'Good_Bad' column is excluded from selected features\n",
    "if 'Good_Bad' in selected_features:\n",
    "    selected_features.remove('Good_Bad')\n",
    "\n",
    "# Return the DataFrame with only the selected features and the target column\n",
    "df = df[selected_features + ['Good_Bad']]\n"
   ]
  },
  {
   "cell_type": "code",
   "execution_count": 27,
   "metadata": {},
   "outputs": [
    {
     "data": {
      "text/html": [
       "<div>\n",
       "<style scoped>\n",
       "    .dataframe tbody tr th:only-of-type {\n",
       "        vertical-align: middle;\n",
       "    }\n",
       "\n",
       "    .dataframe tbody tr th {\n",
       "        vertical-align: top;\n",
       "    }\n",
       "\n",
       "    .dataframe thead th {\n",
       "        text-align: right;\n",
       "    }\n",
       "</style>\n",
       "<table border=\"1\" class=\"dataframe\">\n",
       "  <thead>\n",
       "    <tr style=\"text-align: right;\">\n",
       "      <th></th>\n",
       "      <th>index</th>\n",
       "      <th>Correlation with Risk_Label</th>\n",
       "    </tr>\n",
       "  </thead>\n",
       "  <tbody>\n",
       "    <tr>\n",
       "      <th>0</th>\n",
       "      <td>Good_Bad</td>\n",
       "      <td>1.000000</td>\n",
       "    </tr>\n",
       "    <tr>\n",
       "      <th>1</th>\n",
       "      <td>RFMS_Label</td>\n",
       "      <td>1.000000</td>\n",
       "    </tr>\n",
       "    <tr>\n",
       "      <th>2</th>\n",
       "      <td>TransactionYear</td>\n",
       "      <td>0.456502</td>\n",
       "    </tr>\n",
       "    <tr>\n",
       "      <th>3</th>\n",
       "      <td>TransactionMonth</td>\n",
       "      <td>0.454499</td>\n",
       "    </tr>\n",
       "    <tr>\n",
       "      <th>4</th>\n",
       "      <td>Recency</td>\n",
       "      <td>0.420896</td>\n",
       "    </tr>\n",
       "    <tr>\n",
       "      <th>5</th>\n",
       "      <td>index</td>\n",
       "      <td>0.420122</td>\n",
       "    </tr>\n",
       "    <tr>\n",
       "      <th>6</th>\n",
       "      <td>TotalTransactionAmount</td>\n",
       "      <td>0.121390</td>\n",
       "    </tr>\n",
       "    <tr>\n",
       "      <th>7</th>\n",
       "      <td>Monetary</td>\n",
       "      <td>0.121390</td>\n",
       "    </tr>\n",
       "    <tr>\n",
       "      <th>8</th>\n",
       "      <td>PricingStrategy</td>\n",
       "      <td>0.111403</td>\n",
       "    </tr>\n",
       "    <tr>\n",
       "      <th>9</th>\n",
       "      <td>StdTransactionAmount</td>\n",
       "      <td>0.082434</td>\n",
       "    </tr>\n",
       "    <tr>\n",
       "      <th>10</th>\n",
       "      <td>TransactionDay</td>\n",
       "      <td>0.051507</td>\n",
       "    </tr>\n",
       "    <tr>\n",
       "      <th>11</th>\n",
       "      <td>ChannelId_ChannelId_3</td>\n",
       "      <td>0.038380</td>\n",
       "    </tr>\n",
       "    <tr>\n",
       "      <th>12</th>\n",
       "      <td>ChannelId_ChannelId_2</td>\n",
       "      <td>0.035724</td>\n",
       "    </tr>\n",
       "    <tr>\n",
       "      <th>13</th>\n",
       "      <td>ProductCategory_tv</td>\n",
       "      <td>0.027200</td>\n",
       "    </tr>\n",
       "    <tr>\n",
       "      <th>14</th>\n",
       "      <td>AverageTransactionAmount</td>\n",
       "      <td>0.021599</td>\n",
       "    </tr>\n",
       "    <tr>\n",
       "      <th>15</th>\n",
       "      <td>ProductCategory_ticket</td>\n",
       "      <td>0.018738</td>\n",
       "    </tr>\n",
       "    <tr>\n",
       "      <th>16</th>\n",
       "      <td>ProductCategory_movies</td>\n",
       "      <td>0.016774</td>\n",
       "    </tr>\n",
       "    <tr>\n",
       "      <th>17</th>\n",
       "      <td>Amount</td>\n",
       "      <td>0.014976</td>\n",
       "    </tr>\n",
       "    <tr>\n",
       "      <th>18</th>\n",
       "      <td>ChannelId_ChannelId_1</td>\n",
       "      <td>0.013547</td>\n",
       "    </tr>\n",
       "    <tr>\n",
       "      <th>19</th>\n",
       "      <td>ProductCategory_financial_services</td>\n",
       "      <td>0.007626</td>\n",
       "    </tr>\n",
       "    <tr>\n",
       "      <th>20</th>\n",
       "      <td>FraudResult</td>\n",
       "      <td>0.006396</td>\n",
       "    </tr>\n",
       "    <tr>\n",
       "      <th>21</th>\n",
       "      <td>ProductCategory_transport</td>\n",
       "      <td>0.005853</td>\n",
       "    </tr>\n",
       "    <tr>\n",
       "      <th>22</th>\n",
       "      <td>ProductCategory_airtime</td>\n",
       "      <td>0.005248</td>\n",
       "    </tr>\n",
       "    <tr>\n",
       "      <th>23</th>\n",
       "      <td>ChannelId_ChannelId_5</td>\n",
       "      <td>0.003997</td>\n",
       "    </tr>\n",
       "    <tr>\n",
       "      <th>24</th>\n",
       "      <td>Frequency</td>\n",
       "      <td>0.003101</td>\n",
       "    </tr>\n",
       "    <tr>\n",
       "      <th>25</th>\n",
       "      <td>TotalTransactions</td>\n",
       "      <td>0.003101</td>\n",
       "    </tr>\n",
       "    <tr>\n",
       "      <th>26</th>\n",
       "      <td>TransactionHour</td>\n",
       "      <td>0.003088</td>\n",
       "    </tr>\n",
       "    <tr>\n",
       "      <th>27</th>\n",
       "      <td>ProductCategory_data_bundles</td>\n",
       "      <td>0.003009</td>\n",
       "    </tr>\n",
       "    <tr>\n",
       "      <th>28</th>\n",
       "      <td>ProductCategory_other</td>\n",
       "      <td>0.002133</td>\n",
       "    </tr>\n",
       "    <tr>\n",
       "      <th>29</th>\n",
       "      <td>ProductCategory_utility_bill</td>\n",
       "      <td>0.001158</td>\n",
       "    </tr>\n",
       "  </tbody>\n",
       "</table>\n",
       "</div>"
      ],
      "text/plain": [
       "                                 index  Correlation with Risk_Label\n",
       "0                             Good_Bad                     1.000000\n",
       "1                           RFMS_Label                     1.000000\n",
       "2                      TransactionYear                     0.456502\n",
       "3                     TransactionMonth                     0.454499\n",
       "4                              Recency                     0.420896\n",
       "5                                index                     0.420122\n",
       "6               TotalTransactionAmount                     0.121390\n",
       "7                             Monetary                     0.121390\n",
       "8                      PricingStrategy                     0.111403\n",
       "9                 StdTransactionAmount                     0.082434\n",
       "10                      TransactionDay                     0.051507\n",
       "11               ChannelId_ChannelId_3                     0.038380\n",
       "12               ChannelId_ChannelId_2                     0.035724\n",
       "13                  ProductCategory_tv                     0.027200\n",
       "14            AverageTransactionAmount                     0.021599\n",
       "15              ProductCategory_ticket                     0.018738\n",
       "16              ProductCategory_movies                     0.016774\n",
       "17                              Amount                     0.014976\n",
       "18               ChannelId_ChannelId_1                     0.013547\n",
       "19  ProductCategory_financial_services                     0.007626\n",
       "20                         FraudResult                     0.006396\n",
       "21           ProductCategory_transport                     0.005853\n",
       "22             ProductCategory_airtime                     0.005248\n",
       "23               ChannelId_ChannelId_5                     0.003997\n",
       "24                           Frequency                     0.003101\n",
       "25                   TotalTransactions                     0.003101\n",
       "26                     TransactionHour                     0.003088\n",
       "27        ProductCategory_data_bundles                     0.003009\n",
       "28               ProductCategory_other                     0.002133\n",
       "29        ProductCategory_utility_bill                     0.001158"
      ]
     },
     "execution_count": 27,
     "metadata": {},
     "output_type": "execute_result"
    }
   ],
   "source": [
    "corr_with_target.sort_values(ascending=False).reset_index(name='Correlation with Risk_Label')\n"
   ]
  },
  {
   "cell_type": "code",
   "execution_count": 28,
   "metadata": {},
   "outputs": [
    {
     "data": {
      "text/plain": [
       "Index(['index', 'PricingStrategy', 'TotalTransactionAmount',\n",
       "       'TransactionMonth', 'TransactionYear', 'Recency', 'Monetary',\n",
       "       'RFMS_Label', 'Good_Bad'],\n",
       "      dtype='object')"
      ]
     },
     "execution_count": 28,
     "metadata": {},
     "output_type": "execute_result"
    }
   ],
   "source": [
    "df.columns"
   ]
  },
  {
   "cell_type": "code",
   "execution_count": 29,
   "metadata": {},
   "outputs": [],
   "source": [
    "features = df[selected_features]\n",
    "target = df['Good_Bad']\n",
    "\n",
    "X = features\n",
    "y = target"
   ]
  },
  {
   "cell_type": "code",
   "execution_count": 30,
   "metadata": {},
   "outputs": [],
   "source": [
    "from sklearn.model_selection import train_test_split, GridSearchCV\n",
    "from sklearn.preprocessing import MinMaxScaler, StandardScaler\n",
    "from sklearn.pipeline import Pipeline\n",
    "from sklearn.ensemble import RandomForestClassifier, GradientBoostingClassifier\n",
    "from sklearn.linear_model import LogisticRegression\n",
    "from sklearn.tree import DecisionTreeClassifier\n",
    "from sklearn.metrics import accuracy_score, precision_score, recall_score, f1_score, roc_auc_score, classification_report"
   ]
  },
  {
   "cell_type": "code",
   "execution_count": 31,
   "metadata": {},
   "outputs": [],
   "source": [
    "from sklearn.model_selection import train_test_split\n",
    "\n",
    "# Assume 'features' is your features DataFrame and 'target' is your binary target variable\n",
    "X_train, X_test, y_train, y_test = train_test_split(X, y, test_size=0.2, stratify=y, random_state=42)"
   ]
  },
  {
   "cell_type": "code",
   "execution_count": 32,
   "metadata": {},
   "outputs": [],
   "source": [
    "#%pip install imblearn\n"
   ]
  },
  {
   "cell_type": "code",
   "execution_count": 33,
   "metadata": {},
   "outputs": [],
   "source": [
    "from imblearn.over_sampling import SMOTE\n",
    "\n",
    "# Initialize SMOTE\n",
    "smote = SMOTE(random_state=42)\n",
    "\n",
    "# Fit and resample the training data\n",
    "X_resampled, y_resampled = smote.fit_resample(X_train, y_train)\n",
    "\n",
    "# Now use X_resampled and y_resampled for training your model"
   ]
  },
  {
   "cell_type": "code",
   "execution_count": 34,
   "metadata": {},
   "outputs": [],
   "source": [
    "# Define models\n",
    "models = {\n",
    "    'Logistic Regression': LogisticRegression(),\n",
    "    'Decision Tree': DecisionTreeClassifier(),\n",
    "    'Random Forest': RandomForestClassifier(),\n",
    "    'Gradient Boosting': GradientBoostingClassifier()\n",
    "}\n",
    "\n",
    "# Define hyperparameter grids for each model\n",
    "param_grids = {\n",
    "    'Logistic Regression': {'classifier__C': [0.01, 0.1, 1, 10, 100]},\n",
    "    'Decision Tree': {'classifier__max_depth': [3, 5, 7, None]},\n",
    "    'Random Forest': {'classifier__n_estimators': [50, 100, 200], 'classifier__max_depth': [None, 5, 10]},\n",
    "    'Gradient Boosting': {'classifier__learning_rate': [0.01, 0.1, 0.2], 'classifier__n_estimators': [50, 100, 200]}\n",
    "}\n",
    "\n",
    "# Define pipelines\n",
    "pipelines = {name: Pipeline([\n",
    "    ('scaler', StandardScaler()),  # Standardize the data\n",
    "    ('classifier', model)  # The model to be trained\n",
    "]) for name, model in models.items()}\n",
    "\n",
    "# Set up GridSearchCV for each model pipeline\n",
    "grid_searches = {\n",
    "    name: GridSearchCV(estimator=pipeline, param_grid=param_grids[name], cv=5, scoring='accuracy')\n",
    "    for name, pipeline in pipelines.items()\n",
    "}"
   ]
  },
  {
   "cell_type": "code",
   "execution_count": null,
   "metadata": {},
   "outputs": [
    {
     "name": "stdout",
     "output_type": "stream",
     "text": [
      "Logistic Regression model trained with best parameters: {'classifier__C': 0.01}\n",
      "Decision Tree model trained with best parameters: {'classifier__max_depth': 3}\n",
      "Random Forest model trained with best parameters: {'classifier__max_depth': None, 'classifier__n_estimators': 50}\n"
     ]
    }
   ],
   "source": [
    "# Train each pipeline with the resampled dataset\n",
    "for name, grid_search in grid_searches.items():\n",
    "    grid_search.fit(X_resampled, y_resampled)\n",
    "    print(f\"{name} model trained with best parameters: {grid_search.best_params_}\")"
   ]
  },
  {
   "cell_type": "code",
   "execution_count": null,
   "metadata": {},
   "outputs": [],
   "source": [
    "# Initialize a dictionary to store performance metrics\n",
    "performance_metrics = {}\n",
    "y_probs = {}\n",
    "\n",
    "for name, pipeline in grid_searches.items():\n",
    "    y_pred = pipeline.predict(X_test)  # Predictions on the test set\n",
    "    y_prob = pipeline.predict_proba(X_test)[:, 1]  # Get probabilities for the positive class\n",
    "    y_probs[name] = y_prob  # Store probabilities for ROC curve\n",
    "    # Calculate metrics\n",
    "    performance_metrics[name] = {\n",
    "        'Accuracy': accuracy_score(y_test, y_pred),\n",
    "        'Precision': precision_score(y_test, y_pred),\n",
    "        'Recall': recall_score(y_test, y_pred),\n",
    "        'F1 Score': f1_score(y_test, y_pred),\n",
    "        'ROC AUC': roc_auc_score(y_test, y_prob)\n",
    "    }\n",
    "\n",
    "# # Display the performance metrics\n",
    "# for model, metrics in performance_metrics.items():\n",
    "#     print(f\"{model}: {metrics}\")"
   ]
  },
  {
   "cell_type": "code",
   "execution_count": null,
   "metadata": {},
   "outputs": [],
   "source": [
    "# Create a DataFrame from the performance metrics\n",
    "performance_df = pd.DataFrame(performance_metrics).T\n",
    "performance_df"
   ]
  },
  {
   "cell_type": "code",
   "execution_count": null,
   "metadata": {},
   "outputs": [],
   "source": [
    "import joblib\n",
    "\n",
    "# Assuming 'grid_search' is your GridSearchCV object and it has been run\n",
    "best_model = grid_search.best_estimator_\n",
    "\n",
    "# Save the best model to a file\n",
    "joblib.dump(best_model, '../api/model/best_model.pkl')"
   ]
  },
  {
   "cell_type": "code",
   "execution_count": null,
   "metadata": {},
   "outputs": [],
   "source": [
    "best_model"
   ]
  }
 ],
 "metadata": {
  "kernelspec": {
   "display_name": "venv",
   "language": "python",
   "name": "python3"
  },
  "language_info": {
   "codemirror_mode": {
    "name": "ipython",
    "version": 3
   },
   "file_extension": ".py",
   "mimetype": "text/x-python",
   "name": "python",
   "nbconvert_exporter": "python",
   "pygments_lexer": "ipython3",
   "version": "3.8.0"
  }
 },
 "nbformat": 4,
 "nbformat_minor": 2
}
